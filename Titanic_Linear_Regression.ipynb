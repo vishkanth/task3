{
 "cells": [
  {
   "cell_type": "markdown",
   "id": "85f5ccbd",
   "metadata": {},
   "source": [
    "# 🎯 Linear Regression on Titanic Dataset"
   ]
  },
  {
   "cell_type": "markdown",
   "id": "f12ec026",
   "metadata": {},
   "source": [
    "\n",
    "This notebook demonstrates both **Simple** and **Multiple Linear Regression** using the Titanic Dataset.\n",
    "We aim to predict the `Fare` a passenger paid based on features like Age, Pclass, SibSp, and Parch.\n"
   ]
  },
  {
   "cell_type": "code",
   "execution_count": null,
   "id": "53cd7061",
   "metadata": {},
   "outputs": [],
   "source": [
    "\n",
    "import pandas as pd\n",
    "import numpy as np\n",
    "import matplotlib.pyplot as plt\n",
    "import seaborn as sns\n",
    "\n",
    "from sklearn.linear_model import LinearRegression\n",
    "from sklearn.model_selection import train_test_split\n",
    "from sklearn.metrics import mean_absolute_error, mean_squared_error, r2_score\n"
   ]
  },
  {
   "cell_type": "code",
   "execution_count": null,
   "id": "412f5854",
   "metadata": {},
   "outputs": [],
   "source": [
    "\n",
    "# Load the Titanic dataset\n",
    "df = pd.read_csv(\"Titanic-Dataset.csv\")\n",
    "\n",
    "# Display first few rows\n",
    "df.head()\n"
   ]
  },
  {
   "cell_type": "code",
   "execution_count": null,
   "id": "2a4ed9fa",
   "metadata": {},
   "outputs": [],
   "source": [
    "\n",
    "# Select relevant columns\n",
    "df = df[['Age', 'Pclass', 'SibSp', 'Parch', 'Fare']]\n",
    "\n",
    "# Drop rows with missing values in 'Age' or 'Fare'\n",
    "df.dropna(subset=['Age', 'Fare'], inplace=True)\n",
    "\n",
    "# Check for missing values\n",
    "df.isnull().sum()\n"
   ]
  },
  {
   "cell_type": "markdown",
   "id": "1124ffa6",
   "metadata": {},
   "source": [
    "## 📈 Simple Linear Regression: Predict Fare based on Age"
   ]
  },
  {
   "cell_type": "code",
   "execution_count": null,
   "id": "270673a1",
   "metadata": {},
   "outputs": [],
   "source": [
    "\n",
    "X = df[['Age']]  # Feature\n",
    "y = df['Fare']   # Target\n",
    "\n",
    "# Train-test split\n",
    "X_train, X_test, y_train, y_test = train_test_split(X, y, test_size=0.2, random_state=42)\n",
    "\n",
    "# Train model\n",
    "lr = LinearRegression()\n",
    "lr.fit(X_train, y_train)\n",
    "\n",
    "# Predict\n",
    "y_pred = lr.predict(X_test)\n",
    "\n",
    "# Evaluation\n",
    "print(\"MAE:\", mean_absolute_error(y_test, y_pred))\n",
    "print(\"MSE:\", mean_squared_error(y_test, y_pred))\n",
    "print(\"R2 Score:\", r2_score(y_test, y_pred))\n",
    "\n",
    "# Plot\n",
    "plt.scatter(X_test, y_test, color='blue')\n",
    "plt.plot(X_test, y_pred, color='red')\n",
    "plt.xlabel('Age')\n",
    "plt.ylabel('Fare')\n",
    "plt.title('Simple Linear Regression: Age vs Fare')\n",
    "plt.show()\n"
   ]
  },
  {
   "cell_type": "markdown",
   "id": "334ac4ef",
   "metadata": {},
   "source": [
    "## 📊 Multiple Linear Regression: Predict Fare using multiple features"
   ]
  },
  {
   "cell_type": "code",
   "execution_count": null,
   "id": "dfda397c",
   "metadata": {},
   "outputs": [],
   "source": [
    "\n",
    "X = df[['Age', 'Pclass', 'SibSp', 'Parch']]\n",
    "y = df['Fare']\n",
    "\n",
    "# Split\n",
    "X_train, X_test, y_train, y_test = train_test_split(X, y, test_size=0.2, random_state=42)\n",
    "\n",
    "# Train\n",
    "lr = LinearRegression()\n",
    "lr.fit(X_train, y_train)\n",
    "\n",
    "# Predict\n",
    "y_pred = lr.predict(X_test)\n",
    "\n",
    "# Evaluation\n",
    "print(\"MAE:\", mean_absolute_error(y_test, y_pred))\n",
    "print(\"MSE:\", mean_squared_error(y_test, y_pred))\n",
    "print(\"R2 Score:\", r2_score(y_test, y_pred))\n",
    "\n",
    "# Coefficients\n",
    "print(\"Intercept:\", lr.intercept_)\n",
    "print(\"Coefficients:\", lr.coef_)\n",
    "\n",
    "# Feature mapping\n",
    "coeff_df = pd.DataFrame(lr.coef_, X.columns, columns=['Coefficient'])\n",
    "coeff_df\n"
   ]
  }
 ],
 "metadata": {},
 "nbformat": 4,
 "nbformat_minor": 5
}
